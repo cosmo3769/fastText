{
  "nbformat": 4,
  "nbformat_minor": 0,
  "metadata": {
    "colab": {
      "name": "Copy of FastText using CBOW Like architecture",
      "provenance": [],
      "collapsed_sections": []
    },
    "kernelspec": {
      "name": "python3",
      "display_name": "Python 3"
    },
    "language_info": {
      "name": "python"
    }
  },
  "cells": [
    {
      "cell_type": "code",
      "metadata": {
        "id": "rJXg-JJk6AbC"
      },
      "source": [
        "import pandas as pd\n",
        "import numpy as np\n",
        "import re\n",
        "import nltk\n",
        "import matplotlib.pyplot as plt\n",
        "\n",
        "%matplotlib inline"
      ],
      "execution_count": null,
      "outputs": []
    },
    {
      "cell_type": "code",
      "metadata": {
        "id": "RxJd-34yEMO4"
      },
      "source": [
        "from tqdm import tqdm"
      ],
      "execution_count": null,
      "outputs": []
    },
    {
      "cell_type": "code",
      "metadata": {
        "id": "kUEBib6fp0yc"
      },
      "source": [
        "import tensorflow as tf"
      ],
      "execution_count": null,
      "outputs": []
    },
    {
      "cell_type": "code",
      "metadata": {
        "id": "AA5cmZh4WOgm"
      },
      "source": [
        "# !wget -q https://github.com/piyush-cosmo/W-B-Report/releases/download/v2.0/BBC.News.Train.csv"
      ],
      "execution_count": null,
      "outputs": []
    },
    {
      "cell_type": "code",
      "metadata": {
        "id": "rDTnJrH_lD7_"
      },
      "source": [
        "# corpus_df = pd.read_csv('/content/BBC.News.Train.csv')\n",
        "# corpus_df = corpus_df.drop(columns=['ArticleId'])"
      ],
      "execution_count": null,
      "outputs": []
    },
    {
      "cell_type": "code",
      "metadata": {
        "id": "B5I52nMWZRYp"
      },
      "source": [
        "# corpus_df.head()"
      ],
      "execution_count": null,
      "outputs": []
    },
    {
      "cell_type": "code",
      "metadata": {
        "id": "xh1iYSiGEbTN",
        "colab": {
          "base_uri": "https://localhost:8080/"
        },
        "outputId": "be8a4a4b-5bfe-43e6-e74a-f4a6e47d3396"
      },
      "source": [
        "nltk.download('stopwords')\n",
        "stop_words = nltk.corpus.stopwords.words('english')"
      ],
      "execution_count": null,
      "outputs": [
        {
          "output_type": "stream",
          "text": [
            "[nltk_data] Downloading package stopwords to /root/nltk_data...\n",
            "[nltk_data]   Unzipping corpora/stopwords.zip.\n"
          ],
          "name": "stdout"
        }
      ]
    },
    {
      "cell_type": "code",
      "metadata": {
        "colab": {
          "base_uri": "https://localhost:8080/"
        },
        "id": "n9M6VUSvloJi",
        "outputId": "dc864527-3750-4cad-cc4b-abacb772e143"
      },
      "source": [
        "# stop_words[:5]"
      ],
      "execution_count": null,
      "outputs": [
        {
          "output_type": "execute_result",
          "data": {
            "text/plain": [
              "['i', 'me', 'my', 'myself', 'we']"
            ]
          },
          "metadata": {
            "tags": []
          },
          "execution_count": 15
        }
      ]
    },
    {
      "cell_type": "code",
      "metadata": {
        "id": "7VujJjNxmLtv"
      },
      "source": [
        "# len(corpus_df['Text'])"
      ],
      "execution_count": null,
      "outputs": []
    },
    {
      "cell_type": "code",
      "metadata": {
        "id": "Psm5MDk7mzcs"
      },
      "source": [
        "# mod_df = corpus_df\n",
        "# mod_df.head()"
      ],
      "execution_count": null,
      "outputs": []
    },
    {
      "cell_type": "code",
      "metadata": {
        "id": "HgdpYAjAptzs",
        "colab": {
          "base_uri": "https://localhost:8080/",
          "height": 990
        },
        "outputId": "6fb471ed-9aae-4fa6-ee44-00573cfc4551"
      },
      "source": [
        "corpus = ['The sky is blue and beautiful.',\n",
        "          'Love this blue and beautiful sky!',\n",
        "          'The quick brown fox jumps over the lazy dog.',\n",
        "          'A kings breakfast has sausages, ham, bacon, eggs, toast and beans.',\n",
        "          'I love green eggs, ham, sausages and bacon!',\n",
        "          'The brown fox is quick and the blue dog is lazy!',\n",
        "          'The sky is very blue and the sky is very beautiful today',\n",
        "          'The dog is lazy but the brown fox is quick!',\n",
        "          'The dog is loyal to its master.',\n",
        "          'This dog look likes a fox.',\n",
        "          'The pasta looks delicious.',\n",
        "          'The weather is great today.',\n",
        "          'My friend is having a burger.',\n",
        "          'I hate eating new dishes.',\n",
        "          'This kitten is looking so cute.',\n",
        "          'I love playing football.',\n",
        "          'Magnus Carlsen is the best chess player in the world.',\n",
        "          'Sachin Tendulkar is the God of cricket.',\n",
        "          'Winter is coming.',\n",
        "          'The eggs are boiled.',\n",
        "          'The national sports of India is hockey.',\n",
        "          'An apple a day keeps a doctor away.',\n",
        "          'The day seems so humid.',\n",
        "          'The squirrel looks cute but is dangerous when encountered.',\n",
        "          'Our college has no tennis court.',\n",
        "          'My favourite dish is biryani.',\n",
        "          'Lion is the king of the jungle.',\n",
        "          'Let us all play together.',\n",
        "          'Off the 28 Olympic medals, India have won 9 gold, 7 silver and 12 bronze.',\n",
        "          'The aroma of the dish is spreading all around the gallery.'\n",
        "]\n",
        "labels = ['weather', 'weather', 'animals', 'food', 'food', 'animals', 'weather', 'animals', 'animals', 'animals', 'food', 'weather', 'food', 'food', 'animals',\n",
        "          'sports', 'sports', 'sports', 'weather', 'food', 'sports', 'food', 'weather', 'animals', 'sports', 'food', 'animals', 'sports', 'sports', 'food']\n",
        "           \n",
        "corpus = np.array(corpus)\n",
        "corpus_df = pd.DataFrame({'Text': corpus, \n",
        "                          'Category': labels})\n",
        "corpus_df = corpus_df[['Text', 'Category']]\n",
        "corpus_df"
      ],
      "execution_count": null,
      "outputs": [
        {
          "output_type": "execute_result",
          "data": {
            "text/html": [
              "<div>\n",
              "<style scoped>\n",
              "    .dataframe tbody tr th:only-of-type {\n",
              "        vertical-align: middle;\n",
              "    }\n",
              "\n",
              "    .dataframe tbody tr th {\n",
              "        vertical-align: top;\n",
              "    }\n",
              "\n",
              "    .dataframe thead th {\n",
              "        text-align: right;\n",
              "    }\n",
              "</style>\n",
              "<table border=\"1\" class=\"dataframe\">\n",
              "  <thead>\n",
              "    <tr style=\"text-align: right;\">\n",
              "      <th></th>\n",
              "      <th>Text</th>\n",
              "      <th>Category</th>\n",
              "    </tr>\n",
              "  </thead>\n",
              "  <tbody>\n",
              "    <tr>\n",
              "      <th>0</th>\n",
              "      <td>The sky is blue and beautiful.</td>\n",
              "      <td>weather</td>\n",
              "    </tr>\n",
              "    <tr>\n",
              "      <th>1</th>\n",
              "      <td>Love this blue and beautiful sky!</td>\n",
              "      <td>weather</td>\n",
              "    </tr>\n",
              "    <tr>\n",
              "      <th>2</th>\n",
              "      <td>The quick brown fox jumps over the lazy dog.</td>\n",
              "      <td>animals</td>\n",
              "    </tr>\n",
              "    <tr>\n",
              "      <th>3</th>\n",
              "      <td>A kings breakfast has sausages, ham, bacon, eg...</td>\n",
              "      <td>food</td>\n",
              "    </tr>\n",
              "    <tr>\n",
              "      <th>4</th>\n",
              "      <td>I love green eggs, ham, sausages and bacon!</td>\n",
              "      <td>food</td>\n",
              "    </tr>\n",
              "    <tr>\n",
              "      <th>5</th>\n",
              "      <td>The brown fox is quick and the blue dog is lazy!</td>\n",
              "      <td>animals</td>\n",
              "    </tr>\n",
              "    <tr>\n",
              "      <th>6</th>\n",
              "      <td>The sky is very blue and the sky is very beaut...</td>\n",
              "      <td>weather</td>\n",
              "    </tr>\n",
              "    <tr>\n",
              "      <th>7</th>\n",
              "      <td>The dog is lazy but the brown fox is quick!</td>\n",
              "      <td>animals</td>\n",
              "    </tr>\n",
              "    <tr>\n",
              "      <th>8</th>\n",
              "      <td>The dog is loyal to its master.</td>\n",
              "      <td>animals</td>\n",
              "    </tr>\n",
              "    <tr>\n",
              "      <th>9</th>\n",
              "      <td>This dog look likes a fox.</td>\n",
              "      <td>animals</td>\n",
              "    </tr>\n",
              "    <tr>\n",
              "      <th>10</th>\n",
              "      <td>The pasta looks delicious.</td>\n",
              "      <td>food</td>\n",
              "    </tr>\n",
              "    <tr>\n",
              "      <th>11</th>\n",
              "      <td>The weather is great today.</td>\n",
              "      <td>weather</td>\n",
              "    </tr>\n",
              "    <tr>\n",
              "      <th>12</th>\n",
              "      <td>My friend is having a burger.</td>\n",
              "      <td>food</td>\n",
              "    </tr>\n",
              "    <tr>\n",
              "      <th>13</th>\n",
              "      <td>I hate eating new dishes.</td>\n",
              "      <td>food</td>\n",
              "    </tr>\n",
              "    <tr>\n",
              "      <th>14</th>\n",
              "      <td>This kitten is looking so cute.</td>\n",
              "      <td>animals</td>\n",
              "    </tr>\n",
              "    <tr>\n",
              "      <th>15</th>\n",
              "      <td>I love playing football.</td>\n",
              "      <td>sports</td>\n",
              "    </tr>\n",
              "    <tr>\n",
              "      <th>16</th>\n",
              "      <td>Magnus Carlsen is the best chess player in the...</td>\n",
              "      <td>sports</td>\n",
              "    </tr>\n",
              "    <tr>\n",
              "      <th>17</th>\n",
              "      <td>Sachin Tendulkar is the God of cricket.</td>\n",
              "      <td>sports</td>\n",
              "    </tr>\n",
              "    <tr>\n",
              "      <th>18</th>\n",
              "      <td>Winter is coming.</td>\n",
              "      <td>weather</td>\n",
              "    </tr>\n",
              "    <tr>\n",
              "      <th>19</th>\n",
              "      <td>The eggs are boiled.</td>\n",
              "      <td>food</td>\n",
              "    </tr>\n",
              "    <tr>\n",
              "      <th>20</th>\n",
              "      <td>The national sports of India is hockey.</td>\n",
              "      <td>sports</td>\n",
              "    </tr>\n",
              "    <tr>\n",
              "      <th>21</th>\n",
              "      <td>An apple a day keeps a doctor away.</td>\n",
              "      <td>food</td>\n",
              "    </tr>\n",
              "    <tr>\n",
              "      <th>22</th>\n",
              "      <td>The day seems so humid.</td>\n",
              "      <td>weather</td>\n",
              "    </tr>\n",
              "    <tr>\n",
              "      <th>23</th>\n",
              "      <td>The squirrel looks cute but is dangerous when ...</td>\n",
              "      <td>animals</td>\n",
              "    </tr>\n",
              "    <tr>\n",
              "      <th>24</th>\n",
              "      <td>Our college has no tennis court.</td>\n",
              "      <td>sports</td>\n",
              "    </tr>\n",
              "    <tr>\n",
              "      <th>25</th>\n",
              "      <td>My favourite dish is biryani.</td>\n",
              "      <td>food</td>\n",
              "    </tr>\n",
              "    <tr>\n",
              "      <th>26</th>\n",
              "      <td>Lion is the king of the jungle.</td>\n",
              "      <td>animals</td>\n",
              "    </tr>\n",
              "    <tr>\n",
              "      <th>27</th>\n",
              "      <td>Let us all play together.</td>\n",
              "      <td>sports</td>\n",
              "    </tr>\n",
              "    <tr>\n",
              "      <th>28</th>\n",
              "      <td>Off the 28 Olympic medals, India have won 9 go...</td>\n",
              "      <td>sports</td>\n",
              "    </tr>\n",
              "    <tr>\n",
              "      <th>29</th>\n",
              "      <td>The aroma of the dish is spreading all around ...</td>\n",
              "      <td>food</td>\n",
              "    </tr>\n",
              "  </tbody>\n",
              "</table>\n",
              "</div>"
            ],
            "text/plain": [
              "                                                 Text Category\n",
              "0                      The sky is blue and beautiful.  weather\n",
              "1                   Love this blue and beautiful sky!  weather\n",
              "2        The quick brown fox jumps over the lazy dog.  animals\n",
              "3   A kings breakfast has sausages, ham, bacon, eg...     food\n",
              "4         I love green eggs, ham, sausages and bacon!     food\n",
              "5    The brown fox is quick and the blue dog is lazy!  animals\n",
              "6   The sky is very blue and the sky is very beaut...  weather\n",
              "7         The dog is lazy but the brown fox is quick!  animals\n",
              "8                     The dog is loyal to its master.  animals\n",
              "9                          This dog look likes a fox.  animals\n",
              "10                         The pasta looks delicious.     food\n",
              "11                        The weather is great today.  weather\n",
              "12                      My friend is having a burger.     food\n",
              "13                          I hate eating new dishes.     food\n",
              "14                    This kitten is looking so cute.  animals\n",
              "15                           I love playing football.   sports\n",
              "16  Magnus Carlsen is the best chess player in the...   sports\n",
              "17            Sachin Tendulkar is the God of cricket.   sports\n",
              "18                                  Winter is coming.  weather\n",
              "19                               The eggs are boiled.     food\n",
              "20            The national sports of India is hockey.   sports\n",
              "21                An apple a day keeps a doctor away.     food\n",
              "22                            The day seems so humid.  weather\n",
              "23  The squirrel looks cute but is dangerous when ...  animals\n",
              "24                   Our college has no tennis court.   sports\n",
              "25                      My favourite dish is biryani.     food\n",
              "26                    Lion is the king of the jungle.  animals\n",
              "27                          Let us all play together.   sports\n",
              "28  Off the 28 Olympic medals, India have won 9 go...   sports\n",
              "29  The aroma of the dish is spreading all around ...     food"
            ]
          },
          "metadata": {
            "tags": []
          },
          "execution_count": 5
        }
      ]
    },
    {
      "cell_type": "code",
      "metadata": {
        "id": "UQz8yQyKiIKU"
      },
      "source": [
        "mod_df = corpus_df"
      ],
      "execution_count": null,
      "outputs": []
    },
    {
      "cell_type": "code",
      "metadata": {
        "id": "-KEuOWlFl6-x"
      },
      "source": [
        "for i in range(len(corpus_df['Text'])):\n",
        "  new_sent = ''\n",
        "  for j in corpus_df['Text'].iloc[i].split():\n",
        "    if j not in stop_words:\n",
        "      new_sent = new_sent + ' ' + j\n",
        "  mod_df['Text'].iloc[i] = new_sent   "
      ],
      "execution_count": null,
      "outputs": []
    },
    {
      "cell_type": "code",
      "metadata": {
        "colab": {
          "base_uri": "https://localhost:8080/",
          "height": 990
        },
        "id": "Hl5592Gahl3X",
        "outputId": "a9dc8333-a5c2-47a2-ff3d-eac79c4ef43b"
      },
      "source": [
        "mod_df"
      ],
      "execution_count": null,
      "outputs": [
        {
          "output_type": "execute_result",
          "data": {
            "text/html": [
              "<div>\n",
              "<style scoped>\n",
              "    .dataframe tbody tr th:only-of-type {\n",
              "        vertical-align: middle;\n",
              "    }\n",
              "\n",
              "    .dataframe tbody tr th {\n",
              "        vertical-align: top;\n",
              "    }\n",
              "\n",
              "    .dataframe thead th {\n",
              "        text-align: right;\n",
              "    }\n",
              "</style>\n",
              "<table border=\"1\" class=\"dataframe\">\n",
              "  <thead>\n",
              "    <tr style=\"text-align: right;\">\n",
              "      <th></th>\n",
              "      <th>Text</th>\n",
              "      <th>Category</th>\n",
              "    </tr>\n",
              "  </thead>\n",
              "  <tbody>\n",
              "    <tr>\n",
              "      <th>0</th>\n",
              "      <td>The sky blue beautiful.</td>\n",
              "      <td>weather</td>\n",
              "    </tr>\n",
              "    <tr>\n",
              "      <th>1</th>\n",
              "      <td>Love blue beautiful sky!</td>\n",
              "      <td>weather</td>\n",
              "    </tr>\n",
              "    <tr>\n",
              "      <th>2</th>\n",
              "      <td>The quick brown fox jumps lazy dog.</td>\n",
              "      <td>animals</td>\n",
              "    </tr>\n",
              "    <tr>\n",
              "      <th>3</th>\n",
              "      <td>A kings breakfast sausages, ham, bacon, eggs,...</td>\n",
              "      <td>food</td>\n",
              "    </tr>\n",
              "    <tr>\n",
              "      <th>4</th>\n",
              "      <td>I love green eggs, ham, sausages bacon!</td>\n",
              "      <td>food</td>\n",
              "    </tr>\n",
              "    <tr>\n",
              "      <th>5</th>\n",
              "      <td>The brown fox quick blue dog lazy!</td>\n",
              "      <td>animals</td>\n",
              "    </tr>\n",
              "    <tr>\n",
              "      <th>6</th>\n",
              "      <td>The sky blue sky beautiful today</td>\n",
              "      <td>weather</td>\n",
              "    </tr>\n",
              "    <tr>\n",
              "      <th>7</th>\n",
              "      <td>The dog lazy brown fox quick!</td>\n",
              "      <td>animals</td>\n",
              "    </tr>\n",
              "    <tr>\n",
              "      <th>8</th>\n",
              "      <td>The dog loyal master.</td>\n",
              "      <td>animals</td>\n",
              "    </tr>\n",
              "    <tr>\n",
              "      <th>9</th>\n",
              "      <td>This dog look likes fox.</td>\n",
              "      <td>animals</td>\n",
              "    </tr>\n",
              "    <tr>\n",
              "      <th>10</th>\n",
              "      <td>The pasta looks delicious.</td>\n",
              "      <td>food</td>\n",
              "    </tr>\n",
              "    <tr>\n",
              "      <th>11</th>\n",
              "      <td>The weather great today.</td>\n",
              "      <td>weather</td>\n",
              "    </tr>\n",
              "    <tr>\n",
              "      <th>12</th>\n",
              "      <td>My friend burger.</td>\n",
              "      <td>food</td>\n",
              "    </tr>\n",
              "    <tr>\n",
              "      <th>13</th>\n",
              "      <td>I hate eating new dishes.</td>\n",
              "      <td>food</td>\n",
              "    </tr>\n",
              "    <tr>\n",
              "      <th>14</th>\n",
              "      <td>This kitten looking cute.</td>\n",
              "      <td>animals</td>\n",
              "    </tr>\n",
              "    <tr>\n",
              "      <th>15</th>\n",
              "      <td>I love playing football.</td>\n",
              "      <td>sports</td>\n",
              "    </tr>\n",
              "    <tr>\n",
              "      <th>16</th>\n",
              "      <td>Magnus Carlsen best chess player world.</td>\n",
              "      <td>sports</td>\n",
              "    </tr>\n",
              "    <tr>\n",
              "      <th>17</th>\n",
              "      <td>Sachin Tendulkar God cricket.</td>\n",
              "      <td>sports</td>\n",
              "    </tr>\n",
              "    <tr>\n",
              "      <th>18</th>\n",
              "      <td>Winter coming.</td>\n",
              "      <td>weather</td>\n",
              "    </tr>\n",
              "    <tr>\n",
              "      <th>19</th>\n",
              "      <td>The eggs boiled.</td>\n",
              "      <td>food</td>\n",
              "    </tr>\n",
              "    <tr>\n",
              "      <th>20</th>\n",
              "      <td>The national sports India hockey.</td>\n",
              "      <td>sports</td>\n",
              "    </tr>\n",
              "    <tr>\n",
              "      <th>21</th>\n",
              "      <td>An apple day keeps doctor away.</td>\n",
              "      <td>food</td>\n",
              "    </tr>\n",
              "    <tr>\n",
              "      <th>22</th>\n",
              "      <td>The day seems humid.</td>\n",
              "      <td>weather</td>\n",
              "    </tr>\n",
              "    <tr>\n",
              "      <th>23</th>\n",
              "      <td>The squirrel looks cute dangerous encountered.</td>\n",
              "      <td>animals</td>\n",
              "    </tr>\n",
              "    <tr>\n",
              "      <th>24</th>\n",
              "      <td>Our college tennis court.</td>\n",
              "      <td>sports</td>\n",
              "    </tr>\n",
              "    <tr>\n",
              "      <th>25</th>\n",
              "      <td>My favourite dish biryani.</td>\n",
              "      <td>food</td>\n",
              "    </tr>\n",
              "    <tr>\n",
              "      <th>26</th>\n",
              "      <td>Lion king jungle.</td>\n",
              "      <td>animals</td>\n",
              "    </tr>\n",
              "    <tr>\n",
              "      <th>27</th>\n",
              "      <td>Let us play together.</td>\n",
              "      <td>sports</td>\n",
              "    </tr>\n",
              "    <tr>\n",
              "      <th>28</th>\n",
              "      <td>Off 28 Olympic medals, India 9 gold, 7 silver...</td>\n",
              "      <td>sports</td>\n",
              "    </tr>\n",
              "    <tr>\n",
              "      <th>29</th>\n",
              "      <td>The aroma dish spreading around gallery.</td>\n",
              "      <td>food</td>\n",
              "    </tr>\n",
              "  </tbody>\n",
              "</table>\n",
              "</div>"
            ],
            "text/plain": [
              "                                                 Text Category\n",
              "0                             The sky blue beautiful.  weather\n",
              "1                            Love blue beautiful sky!  weather\n",
              "2                 The quick brown fox jumps lazy dog.  animals\n",
              "3    A kings breakfast sausages, ham, bacon, eggs,...     food\n",
              "4             I love green eggs, ham, sausages bacon!     food\n",
              "5                  The brown fox quick blue dog lazy!  animals\n",
              "6                    The sky blue sky beautiful today  weather\n",
              "7                       The dog lazy brown fox quick!  animals\n",
              "8                               The dog loyal master.  animals\n",
              "9                            This dog look likes fox.  animals\n",
              "10                         The pasta looks delicious.     food\n",
              "11                           The weather great today.  weather\n",
              "12                                  My friend burger.     food\n",
              "13                          I hate eating new dishes.     food\n",
              "14                          This kitten looking cute.  animals\n",
              "15                           I love playing football.   sports\n",
              "16            Magnus Carlsen best chess player world.   sports\n",
              "17                      Sachin Tendulkar God cricket.   sports\n",
              "18                                     Winter coming.  weather\n",
              "19                                   The eggs boiled.     food\n",
              "20                  The national sports India hockey.   sports\n",
              "21                    An apple day keeps doctor away.     food\n",
              "22                               The day seems humid.  weather\n",
              "23     The squirrel looks cute dangerous encountered.  animals\n",
              "24                          Our college tennis court.   sports\n",
              "25                         My favourite dish biryani.     food\n",
              "26                                  Lion king jungle.  animals\n",
              "27                              Let us play together.   sports\n",
              "28   Off 28 Olympic medals, India 9 gold, 7 silver...   sports\n",
              "29           The aroma dish spreading around gallery.     food"
            ]
          },
          "metadata": {
            "tags": []
          },
          "execution_count": 8
        }
      ]
    },
    {
      "cell_type": "code",
      "metadata": {
        "id": "udkRVyuXgjAm"
      },
      "source": [
        "top_k = 1000\n",
        "tokenizer = tf.keras.preprocessing.text.Tokenizer(num_words=top_k,\n",
        "                                                  oov_token=\"<unk>\",\n",
        "                                                  filters='!\"#$%&()*+.,-/:;=?@[\\]^_`{|}~')"
      ],
      "execution_count": null,
      "outputs": []
    },
    {
      "cell_type": "code",
      "metadata": {
        "id": "5JZva8pFgsFu"
      },
      "source": [
        "tokenizer.fit_on_texts(mod_df['Text'])\n",
        "tokenizer.fit_on_texts(corpus_df['Category'])"
      ],
      "execution_count": null,
      "outputs": []
    },
    {
      "cell_type": "code",
      "metadata": {
        "colab": {
          "base_uri": "https://localhost:8080/"
        },
        "id": "3LDX7EtEhWK5",
        "outputId": "e36b88b5-a9d6-4eec-8d3a-8dd354ecf406"
      },
      "source": [
        "def check_vocab(word):\n",
        "    i = tokenizer.word_index[word]\n",
        "    print(f\"The index of the word: {i}\")\n",
        "    print(f\"Index {i} is word {tokenizer.index_word[i]}\")\n",
        "    \n",
        "check_vocab(\"beans\")"
      ],
      "execution_count": null,
      "outputs": [
        {
          "output_type": "stream",
          "text": [
            "The index of the word: 34\n",
            "Index 34 is word beans\n"
          ],
          "name": "stdout"
        }
      ]
    },
    {
      "cell_type": "code",
      "metadata": {
        "id": "COhZUs_giWpc"
      },
      "source": [
        "train_seqs = tokenizer.texts_to_sequences(mod_df['Text'])\n",
        "train_labels = tokenizer.texts_to_sequences(corpus_df['Category'])"
      ],
      "execution_count": null,
      "outputs": []
    },
    {
      "cell_type": "code",
      "metadata": {
        "colab": {
          "base_uri": "https://localhost:8080/"
        },
        "id": "FHUhL10vj3UD",
        "outputId": "a6923986-86a7-486b-ca77-5d1d634c4b8a"
      },
      "source": [
        "train_seqs"
      ],
      "execution_count": null,
      "outputs": [
        {
          "output_type": "execute_result",
          "data": {
            "text/plain": [
              "[[2, 8, 9, 11],\n",
              " [12, 9, 11, 8],\n",
              " [2, 13, 14, 10, 29, 15, 7],\n",
              " [30, 31, 32, 18, 19, 20, 16, 33, 34],\n",
              " [17, 12, 35, 16, 19, 18, 20],\n",
              " [2, 14, 10, 13, 9, 7, 15],\n",
              " [2, 8, 9, 8, 11, 21],\n",
              " [2, 7, 15, 14, 10, 13],\n",
              " [2, 7, 36, 37],\n",
              " [22, 7, 38, 39, 10],\n",
              " [2, 40, 23, 41],\n",
              " [2, 6, 42, 21],\n",
              " [24, 43, 44],\n",
              " [17, 45, 46, 47, 48],\n",
              " [22, 49, 50, 25],\n",
              " [17, 12, 51, 52],\n",
              " [53, 54, 55, 56, 57, 58],\n",
              " [59, 60, 61, 62],\n",
              " [63, 64],\n",
              " [2, 16, 65],\n",
              " [2, 66, 4, 26, 67],\n",
              " [68, 69, 27, 70, 71, 72],\n",
              " [2, 27, 73, 74],\n",
              " [2, 75, 23, 25, 76, 77],\n",
              " [78, 79, 80, 81],\n",
              " [24, 82, 28, 83],\n",
              " [84, 85, 86],\n",
              " [87, 88, 89, 90],\n",
              " [91, 92, 93, 94, 26, 95, 96, 97, 98, 99, 100],\n",
              " [2, 101, 28, 102, 103, 104]]"
            ]
          },
          "metadata": {
            "tags": []
          },
          "execution_count": 13
        }
      ]
    },
    {
      "cell_type": "code",
      "metadata": {
        "id": "n8QkGdUXGESu"
      },
      "source": [
        "EMBEDDING_SIZE = 2\n",
        "opt = tf.optimizers.Adam()\n",
        "iterations = 1000\n",
        "# Here the word vectors are represented as row\n",
        "embedding_matrix =  tf.Variable(np.random.rand(len(tokenizer.word_index), EMBEDDING_SIZE))\n",
        "de_embedding_matrix = tf.Variable(np.random.rand(EMBEDDING_SIZE, len(tokenizer.word_index)))"
      ],
      "execution_count": null,
      "outputs": []
    },
    {
      "cell_type": "code",
      "metadata": {
        "id": "hYMnEHydHbEe"
      },
      "source": [
        "def one_hot_enc(inp):\n",
        "  dummy_vector = np.zeros(shape=(1, len(tokenizer.word_index)))\n",
        "  dummy_vector[0][inp-1] = 1\n",
        "  return dummy_vector"
      ],
      "execution_count": null,
      "outputs": []
    },
    {
      "cell_type": "code",
      "metadata": {
        "id": "gnafH9qwII-t"
      },
      "source": [
        "def train_step(indices, target ,log_list):\n",
        "  \n",
        "  target = target[0]\n",
        "  with tf.GradientTape() as tape:\n",
        "    \n",
        "    hidden_avg = 0\n",
        "    for i in indices:\n",
        "      hidden_avg = hidden_avg + tf.matmul(one_hot_enc(i),embedding_matrix)\n",
        "    hidden_avg = tf.divide(hidden_avg,len(indices))  \n",
        "\n",
        "    output_over_classes = tf.matmul(hidden_avg, de_embedding_matrix)\n",
        "    soft_out = tf.nn.softmax(tf.squeeze(output_over_classes), axis=0)\n",
        "    loss_trgt = soft_out[target-1]\n",
        "    log_loss = -tf.math.log(loss_trgt)\n",
        "    log_loss = (1/len(indices))*(target-1)*log_loss\n",
        "    log_list.append(log_loss.numpy())\n",
        "\n",
        "\n",
        "  grad = tape.gradient(log_loss, [embedding_matrix, de_embedding_matrix])\n",
        "  opt.apply_gradients(zip(grad, [embedding_matrix, de_embedding_matrix]))"
      ],
      "execution_count": null,
      "outputs": []
    },
    {
      "cell_type": "code",
      "metadata": {
        "id": "qSgL8c11vIbO"
      },
      "source": [
        "log_list = []"
      ],
      "execution_count": null,
      "outputs": []
    },
    {
      "cell_type": "code",
      "metadata": {
        "id": "of5l2j2RNE9H",
        "colab": {
          "base_uri": "https://localhost:8080/"
        },
        "outputId": "0abcb1ba-8f33-46f8-ce4a-3a3ed0276af5"
      },
      "source": [
        "for iter in tqdm(range(iterations)):\n",
        "\n",
        "  for idxs,trgt in zip(train_seqs, train_labels): \n",
        "    train_step(idxs, trgt, log_list)"
      ],
      "execution_count": null,
      "outputs": [
        {
          "output_type": "stream",
          "text": [
            "100%|██████████| 1000/1000 [02:10<00:00,  7.65it/s]\n"
          ],
          "name": "stderr"
        }
      ]
    },
    {
      "cell_type": "code",
      "metadata": {
        "id": "i1pdCuLvRkHC"
      },
      "source": [
        "import matplotlib.pyplot as plt"
      ],
      "execution_count": null,
      "outputs": []
    },
    {
      "cell_type": "code",
      "metadata": {
        "id": "zf7uzIVCTYz1",
        "colab": {
          "base_uri": "https://localhost:8080/",
          "height": 283
        },
        "outputId": "f34efafc-45d8-42ec-f19c-dd863db9d7f1"
      },
      "source": [
        "plt.plot(log_list)"
      ],
      "execution_count": null,
      "outputs": [
        {
          "output_type": "execute_result",
          "data": {
            "text/plain": [
              "[<matplotlib.lines.Line2D at 0x7f1d09a02c10>]"
            ]
          },
          "metadata": {
            "tags": []
          },
          "execution_count": 20
        },
        {
          "output_type": "display_data",
          "data": {
            "image/png": "[encoded data removed]",
            "text/plain": [
              "<Figure size 432x288 with 1 Axes>"
            ]
          },
          "metadata": {
            "tags": [],
            "needs_background": "light"
          }
        }
      ]
    },
    {
      "cell_type": "code",
      "metadata": {
        "colab": {
          "base_uri": "https://localhost:8080/",
          "height": 320
        },
        "id": "9E1kW1zG0rlh",
        "outputId": "d99e191a-c53c-40ad-9820-4188700f7c89"
      },
      "source": [
        "embedding_matrix.numpy().shape\n",
        "fig = plt.figure(figsize=(10,5))\n",
        "count = 0\n",
        "for i,j in embedding_matrix.numpy():\n",
        "  plt.scatter(i,j)\n",
        "  plt.text( i+0.01, j+0.01, tokenizer.index_word[count+1])\n",
        "  count += 1\n",
        "   \n",
        "plt.show()"
      ],
      "execution_count": null,
      "outputs": [
        {
          "output_type": "display_data",
          "data": {
            "image/png": "[encoded data removed]",
            "text/plain": [
              "<Figure size 720x360 with 1 Axes>"
            ]
          },
          "metadata": {
            "tags": [],
            "needs_background": "light"
          }
        }
      ]
    },
    {
      "cell_type": "code",
      "metadata": {
        "id": "mVkHNTMI3Ga4"
      },
      "source": [
        ""
      ],
      "execution_count": null,
      "outputs": []
    }
  ]
}